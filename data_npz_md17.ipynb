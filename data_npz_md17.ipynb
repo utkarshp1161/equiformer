{
 "cells": [
  {
   "attachments": {},
   "cell_type": "markdown",
   "metadata": {},
   "source": [
    "# see npz data"
   ]
  },
  {
   "cell_type": "code",
   "execution_count": 2,
   "metadata": {},
   "outputs": [],
   "source": [
    "import numpy as np"
   ]
  },
  {
   "cell_type": "code",
   "execution_count": 7,
   "metadata": {},
   "outputs": [],
   "source": [
    "data_path = \"/home/sire/phd/srz228573/equiformer/data_sl/fone_dataset/mdsim_data/md17/benzene/10k/\""
   ]
  },
  {
   "cell_type": "code",
   "execution_count": null,
   "metadata": {},
   "outputs": [],
   "source": [
    "test_data = np.load(data_path + \"test/nequip_npz.npz\" )"
   ]
  },
  {
   "cell_type": "code",
   "execution_count": 5,
   "metadata": {},
   "outputs": [],
   "source": [
    "test_data = np.load(\"/home/sire/phd/srz228573/equiformer/data_sl/fone_dataset/mdsim_data/md17/benzene/10k/test/nequip_npz.npz\")\n",
    "train_data = np.load(\"/home/sire/phd/srz228573/equiformer/data_sl/fone_dataset/mdsim_data/md17/benzene/10k/train/nequip_npz.npz\")\n",
    "val_data = np.load(\"/home/sire/phd/srz228573/equiformer/data_sl/fone_dataset/mdsim_data/md17/benzene/10k/val/nequip_npz.npz\")"
   ]
  },
  {
   "cell_type": "code",
   "execution_count": 6,
   "metadata": {},
   "outputs": [
    {
     "name": "stdout",
     "output_type": "stream",
     "text": [
      "z (12,)\n",
      "z (12,)\n",
      "z (12,)\n",
      "E (9500, 1)\n",
      "E (10000, 1)\n",
      "E (500, 1)\n",
      "F (9500, 12, 3)\n",
      "F (10000, 12, 3)\n",
      "F (500, 12, 3)\n",
      "R (9500, 12, 3)\n",
      "R (10000, 12, 3)\n",
      "R (500, 12, 3)\n"
     ]
    }
   ],
   "source": [
    "for i in train_data.files:\n",
    "    print(i, train_data[i].shape)\n",
    "    print(i, test_data[i].shape)\n",
    "    print(i, val_data[i].shape)"
   ]
  },
  {
   "cell_type": "code",
   "execution_count": 1,
   "metadata": {},
   "outputs": [],
   "source": [
    "import datasets.pyg.npz_data as md17_dataset\n",
    "from datasets.pyg.npz_data import MD17\n",
    "import os"
   ]
  },
  {
   "cell_type": "code",
   "execution_count": 2,
   "metadata": {},
   "outputs": [],
   "source": [
    "all_dataset = MD17(\"/home/sire/phd/srz228573/equiformer/data_sl/fone_dataset/mdsim_data/md17/aspirin/10k/train\")"
   ]
  },
  {
   "cell_type": "code",
   "execution_count": 3,
   "metadata": {},
   "outputs": [],
   "source": [
    "all_dataset = md17_dataset.get_md17_datasets(\"/home/sire/phd/srz228573/equiformer/data_sl/fone_dataset/mdsim_data/md17/aspirin/10k/train\")"
   ]
  },
  {
   "cell_type": "code",
   "execution_count": 4,
   "metadata": {},
   "outputs": [],
   "source": [
    "train_dataset = md17_dataset.get_md17_datasets(\"/home/sire/phd/srz228573/equiformer/data_sl/fone_dataset/mdsim_data/md17/aspirin/10k/train\")\n",
    "                \n",
    "val_dataset = md17_dataset.get_md17_datasets(\"/home/sire/phd/srz228573/equiformer/data_sl/fone_dataset/mdsim_data/md17/aspirin/10k/val\")\n",
    "                \n",
    "test_datset = md17_dataset.get_md17_datasets(\"/home/sire/phd/srz228573/equiformer/data_sl/fone_dataset/mdsim_data/md17/aspirin/10k/test\")"
   ]
  },
  {
   "cell_type": "code",
   "execution_count": 5,
   "metadata": {},
   "outputs": [
    {
     "data": {
      "text/plain": [
       "(torch.utils.data.dataset.Subset,\n",
       " torch.utils.data.dataset.Subset,\n",
       " torch.utils.data.dataset.Subset)"
      ]
     },
     "execution_count": 5,
     "metadata": {},
     "output_type": "execute_result"
    }
   ],
   "source": [
    "type(train_dataset), type(val_dataset), type(test_datset)"
   ]
  },
  {
   "cell_type": "code",
   "execution_count": 6,
   "metadata": {},
   "outputs": [
    {
     "data": {
      "text/plain": [
       "(9500, 500, 10000)"
      ]
     },
     "execution_count": 6,
     "metadata": {},
     "output_type": "execute_result"
    }
   ],
   "source": [
    "len(train_dataset), len(val_dataset), len(test_datset)"
   ]
  },
  {
   "cell_type": "code",
   "execution_count": null,
   "metadata": {},
   "outputs": [],
   "source": []
  }
 ],
 "metadata": {
  "kernelspec": {
   "display_name": "utk_equiformer",
   "language": "python",
   "name": "python3"
  },
  "language_info": {
   "codemirror_mode": {
    "name": "ipython",
    "version": 3
   },
   "file_extension": ".py",
   "mimetype": "text/x-python",
   "name": "python",
   "nbconvert_exporter": "python",
   "pygments_lexer": "ipython3",
   "version": "3.8.13"
  },
  "orig_nbformat": 4
 },
 "nbformat": 4,
 "nbformat_minor": 2
}
